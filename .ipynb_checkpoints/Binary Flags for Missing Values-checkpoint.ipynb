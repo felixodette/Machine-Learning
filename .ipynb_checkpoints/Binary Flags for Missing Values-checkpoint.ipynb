{
 "cells": [
  {
   "cell_type": "markdown",
   "metadata": {},
   "source": [
    "# Adding binary flags for missing values for ML"
   ]
  },
  {
   "cell_type": "code",
   "execution_count": 26,
   "metadata": {},
   "outputs": [
    {
     "name": "stdout",
     "output_type": "stream",
     "text": [
      "(300, 27) (300,)\n"
     ]
    }
   ],
   "source": [
    "from pandas import read_csv\n",
    "import numpy as np\n",
    "import pandas as pd\n",
    "from sklearn.ensemble import RandomForestClassifier\n",
    "from sklearn.impute import SimpleImputer\n",
    "from sklearn.model_selection import cross_val_score\n",
    "from sklearn.model_selection import RepeatedStratifiedKFold\n",
    "from sklearn.pipeline import Pipeline\n",
    "\n",
    "url = 'https://raw.githubusercontent.com/jbrownlee/Datasets/master/horse-colic.csv'\n",
    "df = read_csv(url, header=None, na_values='?')\n",
    "data = df.values\n",
    "\n",
    "ix = [i for i in range(data.shape[1]) if i !=23]\n",
    "X, y = data[:, ix], data[:,23]\n",
    "print(X.shape, y.shape)"
   ]
  },
  {
   "cell_type": "markdown",
   "metadata": {},
   "source": [
    "# Impute Dataset\n",
    "\n",
    "Let's evaluate a model on this dataset.\n",
    "\n",
    "We'll use the SimpleImputer class to perform statistical imputation and replace the missing values with the mean of each column, then fit a RandomForest model on the dataset.\n",
    "\n",
    "- Define a pipeline that performs imputation, fit the model and evaluate the pipeline using RepeatedStratifiedKFold Cross-Validation with 3 repeats and 10 folds."
   ]
  },
  {
   "cell_type": "code",
   "execution_count": 27,
   "metadata": {},
   "outputs": [
    {
     "name": "stdout",
     "output_type": "stream",
     "text": [
      "Mean Accuracy: 0.857 (0.060)\n"
     ]
    }
   ],
   "source": [
    "model = RandomForestClassifier()\n",
    "imputer = SimpleImputer()\n",
    "pipeline = Pipeline(steps=[('i', imputer), ('m', model)])\n",
    "cv = RepeatedStratifiedKFold(n_splits=10, n_repeats=3, random_state=1)\n",
    "scores = cross_val_score(pipeline, X, y, scoring='accuracy', cv=cv, n_jobs=-1)\n",
    "print('Mean Accuracy: %.3f (%.3f)' % (np.mean(scores), np.std(scores)))"
   ]
  },
  {
   "cell_type": "markdown",
   "metadata": {},
   "source": [
    "Running the example evaluates the RandomForest with mean satistical imputation on the dataset.\n",
    "\n",
    "In this case, the pipeline achieved an estimated accuracy of about 85%."
   ]
  },
  {
   "cell_type": "markdown",
   "metadata": {},
   "source": [
    "# Model with a Binary Flag for Missing Values\n",
    "\n",
    "It's possible that knowledge of whether a rown containing missing values or not could be useful to the model when making a prediction. To let the model know, provide an additional column that is a binary flag indicating whether the row had a missing value or not. (0: doesn't contain a missing value, 1: contains a missing value which was or will be imputed)."
   ]
  },
  {
   "cell_type": "code",
   "execution_count": 28,
   "metadata": {},
   "outputs": [
    {
     "name": "stdout",
     "output_type": "stream",
     "text": [
      "(300, 27)\n",
      "(300, 28)\n"
     ]
    }
   ],
   "source": [
    "print(X.shape)\n",
    "a = X.sum(axis=1)\n",
    "a[~np.isnan(a)] = 0\n",
    "a[np.isnan(a)] = 0\n",
    "a[np.isnan(a)] = 1\n",
    "a = a.reshape(len(a), 1)\n",
    "X = np.hstack((X, a))\n",
    "print(X.shape)"
   ]
  },
  {
   "cell_type": "markdown",
   "metadata": {},
   "source": [
    "The first print statement reports the number of rows and columns from the imported dataset as expected.\n",
    "\n",
    "The second print statement includes the new binary variable indicating whether a row contains a missing value is created and added to the end of the input variables. Confirming the addition of the feature, from 27 to 28 columns.\n",
    "\n",
    "Now we can evaluate the model as we did earlier on with the additional binary flag and see if it impacts model performance."
   ]
  },
  {
   "cell_type": "code",
   "execution_count": 29,
   "metadata": {},
   "outputs": [
    {
     "name": "stdout",
     "output_type": "stream",
     "text": [
      "Mean Accuracy: 0.860264491410209, 0.05024650960924143\n"
     ]
    }
   ],
   "source": [
    "cv = RepeatedStratifiedKFold(n_splits=10, n_repeats=3, random_state=1)\n",
    "scores = cross_val_score(pipeline, X, y, scoring='accuracy', cv=cv, n_jobs=-1)\n",
    "print(f'Mean Accuracy: {np.mean(scores)}, {np.std(scores)}')"
   ]
  },
  {
   "cell_type": "markdown",
   "metadata": {},
   "source": [
    "Specific results on the run may vary given the stochastic nature of the algorithm, the evaluation procedure and differences in precision across machines. Try running it a few times.\n",
    "\n",
    "Either way, in this case we see a lift in performance to 86%. A statistically insignificant difference."
   ]
  },
  {
   "cell_type": "markdown",
   "metadata": {},
   "source": [
    "# Model with Indicators of All Missing Values\n",
    "Let's try indicate whether each input value was missing and imputed or not, adding an additional column for each input variable that contains missing values, then evaluate the model with the additional information."
   ]
  },
  {
   "cell_type": "code",
   "execution_count": 33,
   "metadata": {},
   "outputs": [
    {
     "name": "stdout",
     "output_type": "stream",
     "text": [
      "(300, 49)\n",
      "Mean Accuracy: 0.8614497589914719, 0.054230246145990944\n"
     ]
    }
   ],
   "source": [
    "X = SimpleImputer(strategy='mean', add_indicator=True).fit_transform(X)\n",
    "print(X.shape)\n",
    "scores = cross_val_score(pipeline, X, y, scoring='accuracy', cv=cv, n_jobs=-1)\n",
    "print(f'Mean Accuracy: {np.mean(scores)}, {np.std(scores)}')"
   ]
  },
  {
   "cell_type": "markdown",
   "metadata": {},
   "source": [
    "# Summary\n",
    "\n",
    "Here we've learn thow to add binary flags for missing values for modelling. Specifically:\n",
    "- How to load and evaluate models with statistical imputation on a classification dataset with missing values\n",
    "- How to add a flag that indidcates if a row has one or more missing values and evalute models with this new feature\n",
    "- HOw to add a flag for each input variable that has missing values and evalute models with these new features."
   ]
  },
  {
   "cell_type": "markdown",
   "metadata": {},
   "source": [
    "# Dataset Description\n",
    "1. TItle: Horse Colic database\n",
    "\n",
    "2. Source Information\n",
    "   -- Creators: Mary McLeish & Matt Cecile\n",
    "\t  \tDepartment of Computer Science\n",
    "\t\tUniversity of Guelph\n",
    "\t\tGuelph, Ontario, Canada N1G 2W1\n",
    "\t\tmdmcleish@water.waterloo.edu\n",
    "   -- Donor:    Will Taylor (taylor@pluto.arc.nasa.gov)\n",
    "   -- Date:     8/6/89\n",
    "\n",
    "3. Past Usage:\n",
    "   -- Unknown\n",
    "\n",
    "4. Relevant Information:\n",
    "\n",
    "   -- 2 data files\n",
    "      -- horse-colic.data: 300 training instances\n",
    "      -- horse-colic.test: 68 test instances\n",
    "   -- Possible class attributes: 24 (whether lesion is surgical)\n",
    "     -- others include: 23, 25, 26, and 27\n",
    "   -- Many Data types: (continuous, discrete, and nominal)\n",
    "\n",
    "5. Number of Instances: 368 (300 for training, 68 for testing)\n",
    "\n",
    "6. Number of attributes: 28\n",
    "\n",
    "7. Attribute Information:\n",
    "\n",
    "  1:  surgery?\n",
    "          1 = Yes, it had surgery\n",
    "          2 = It was treated without surgery\n",
    "\n",
    "  2:  Age\n",
    "          1 = Adult horse\n",
    "          2 = Young (< 6 months)\n",
    "\n",
    "  3:  Hospital Number\n",
    "          - numeric id\n",
    "          - the case number assigned to the horse\n",
    "            (may not be unique if the horse is treated > 1 time)\n",
    "\n",
    "  4:  rectal temperature\n",
    "          - linear\n",
    "          - in degrees celsius.\n",
    "          - An elevated temp may occur due to infection.\n",
    "          - temperature may be reduced when the animal is in late shock\n",
    "          - normal temp is 37.8\n",
    "          - this parameter will usually change as the problem progresses\n",
    "               eg. may start out normal, then become elevated because of\n",
    "                   the lesion, passing back through the normal range as the\n",
    "                   horse goes into shock\n",
    "  5:  pulse\n",
    "          - linear\n",
    "          - the heart rate in beats per minute\n",
    "          - is a reflection of the heart condition: 30 -40 is normal for adults\n",
    "          - rare to have a lower than normal rate although athletic horses\n",
    "            may have a rate of 20-25\n",
    "          - animals with painful lesions or suffering from circulatory shock\n",
    "            may have an elevated heart rate\n",
    "\n",
    "  6:  respiratory rate\n",
    "          - linear\n",
    "          - normal rate is 8 to 10\n",
    "          - usefulness is doubtful due to the great fluctuations\n",
    "\n",
    "  7:  temperature of extremities\n",
    "          - a subjective indication of peripheral circulation\n",
    "          - possible values:\n",
    "               1 = Normal\n",
    "               2 = Warm\n",
    "               3 = Cool\n",
    "               4 = Cold\n",
    "          - cool to cold extremities indicate possible shock\n",
    "          - hot extremities should correlate with an elevated rectal temp.\n",
    "\n",
    "  8:  peripheral pulse\n",
    "          - subjective\n",
    "          - possible values are:\n",
    "               1 = normal\n",
    "               2 = increased\n",
    "               3 = reduced\n",
    "               4 = absent\n",
    "          - normal or increased p.p. are indicative of adequate circulation\n",
    "            while reduced or absent indicate poor perfusion\n",
    "\n",
    "  9:  mucous membranes\n",
    "          - a subjective measurement of colour\n",
    "          - possible values are:\n",
    "               1 = normal pink\n",
    "               2 = bright pink\n",
    "               3 = pale pink\n",
    "               4 = pale cyanotic\n",
    "               5 = bright red / injected\n",
    "               6 = dark cyanotic\n",
    "          - 1 and 2 probably indicate a normal or slightly increased\n",
    "            circulation\n",
    "          - 3 may occur in early shock\n",
    "          - 4 and 6 are indicative of serious circulatory compromise\n",
    "          - 5 is more indicative of a septicemia\n",
    "\n",
    " 10: capillary refill time\n",
    "          - a clinical judgement. The longer the refill, the poorer the\n",
    "            circulation\n",
    "          - possible values\n",
    "               1 = < 3 seconds\n",
    "               2 = >= 3 seconds\n",
    "\n",
    " 11: pain - a subjective judgement of the horse's pain level\n",
    "          - possible values:\n",
    "               1 = alert, no pain\n",
    "               2 = depressed\n",
    "               3 = intermittent mild pain\n",
    "               4 = intermittent severe pain\n",
    "               5 = continuous severe pain\n",
    "          - should NOT be treated as a ordered or discrete variable!\n",
    "          - In general, the more painful, the more likely it is to require\n",
    "            surgery\n",
    "          - prior treatment of pain may mask the pain level to some extent\n",
    "\n",
    " 12: peristalsis\n",
    "          - an indication of the activity in the horse's gut. As the gut\n",
    "            becomes more distended or the horse becomes more toxic, the\n",
    "            activity decreases\n",
    "          - possible values:\n",
    "               1 = hypermotile\n",
    "               2 = normal\n",
    "               3 = hypomotile\n",
    "               4 = absent\n",
    "\n",
    " 13: abdominal distension\n",
    "          - An IMPORTANT parameter.\n",
    "          - possible values\n",
    "               1 = none\n",
    "               2 = slight\n",
    "               3 = moderate\n",
    "               4 = severe\n",
    "          - an animal with abdominal distension is likely to be painful and\n",
    "            have reduced gut motility.\n",
    "          - a horse with severe abdominal distension is likely to require\n",
    "            surgery just tio relieve the pressure\n",
    "\n",
    " 14: nasogastric tube\n",
    "          - this refers to any gas coming out of the tube\n",
    "          - possible values:\n",
    "               1 = none\n",
    "               2 = slight\n",
    "               3 = significant\n",
    "          - a large gas cap in the stomach is likely to give the horse\n",
    "            discomfort\n",
    "\n",
    " 15: nasogastric reflux\n",
    "          - possible values\n",
    "               1 = none\n",
    "               2 = > 1 liter\n",
    "               3 = < 1 liter\n",
    "          - the greater amount of reflux, the more likelihood that there is\n",
    "            some serious obstruction to the fluid passage from the rest of\n",
    "            the intestine\n",
    "\n",
    " 16: nasogastric reflux PH\n",
    "          - linear\n",
    "          - scale is from 0 to 14 with 7 being neutral\n",
    "          - normal values are in the 3 to 4 range\n",
    "\n",
    " 17: rectal examination - feces\n",
    "          - possible values\n",
    "               1 = normal\n",
    "               2 = increased\n",
    "               3 = decreased\n",
    "               4 = absent\n",
    "          - absent feces probably indicates an obstruction\n",
    "\n",
    " 18: abdomen\n",
    "          - possible values\n",
    "               1 = normal\n",
    "               2 = other\n",
    "               3 = firm feces in the large intestine\n",
    "               4 = distended small intestine\n",
    "               5 = distended large intestine\n",
    "          - 3 is probably an obstruction caused by a mechanical impaction\n",
    "            and is normally treated medically\n",
    "          - 4 and 5 indicate a surgical lesion\n",
    "\n",
    " 19: packed cell volume\n",
    "          - linear\n",
    "          - the # of red cells by volume in the blood\n",
    "          - normal range is 30 to 50. The level rises as the circulation\n",
    "            becomes compromised or as the animal becomes dehydrated.\n",
    "\n",
    " 20: total protein\n",
    "          - linear\n",
    "          - normal values lie in the 6-7.5 (gms/dL) range\n",
    "          - the higher the value the greater the dehydration\n",
    "\n",
    " 21: abdominocentesis appearance\n",
    "          - a needle is put in the horse's abdomen and fluid is obtained from\n",
    "            the abdominal cavity\n",
    "          - possible values:\n",
    "               1 = clear\n",
    "               2 = cloudy\n",
    "               3 = serosanguinous\n",
    "          - normal fluid is clear while cloudy or serosanguinous indicates\n",
    "            a compromised gut\n",
    "\n",
    " 22: abdomcentesis total protein\n",
    "          - linear\n",
    "          - the higher the level of protein the more likely it is to have a\n",
    "            compromised gut. Values are in gms/dL\n",
    "\n",
    " 23: outcome\n",
    "          - what eventually happened to the horse?\n",
    "          - possible values:\n",
    "               1 = lived\n",
    "               2 = died\n",
    "               3 = was euthanized\n",
    "\n",
    " 24: surgical lesion?\n",
    "          - retrospectively, was the problem (lesion) surgical?\n",
    "          - all cases are either operated upon or autopsied so that\n",
    "            this value and the lesion type are always known\n",
    "          - possible values:\n",
    "               1 = Yes\n",
    "               2 = No\n",
    "\n",
    " 25, 26, 27: type of lesion\n",
    "          - first number is site of lesion\n",
    "               1 = gastric\n",
    "               2 = sm intestine\n",
    "               3 = lg colon\n",
    "               4 = lg colon and cecum\n",
    "               5 = cecum\n",
    "               6 = transverse colon\n",
    "               7 = retum/descending colon\n",
    "               8 = uterus\n",
    "               9 = bladder\n",
    "               11 = all intestinal sites\n",
    "               00 = none\n",
    "          - second number is type\n",
    "               1 = simple\n",
    "               2 = strangulation\n",
    "               3 = inflammation\n",
    "               4 = other\n",
    "          - third number is subtype\n",
    "               1 = mechanical\n",
    "               2 = paralytic\n",
    "               0 = n/a\n",
    "          - fourth number is specific code\n",
    "               1 = obturation\n",
    "               2 = intrinsic\n",
    "               3 = extrinsic\n",
    "               4 = adynamic\n",
    "               5 = volvulus/torsion\n",
    "               6 = intussuption\n",
    "               7 = thromboembolic\n",
    "               8 = hernia\n",
    "               9 = lipoma/slenic incarceration\n",
    "               10 = displacement\n",
    "               0 = n/a\n",
    " 28: cp_data\n",
    "          - is pathology data present for this case?\n",
    "               1 = Yes\n",
    "               2 = No\n",
    "          - this variable is of no significance since pathology data\n",
    "            is not included or collected for these cases\n",
    "\n",
    "8. Missing values: 30% of the values are missing"
   ]
  },
  {
   "cell_type": "code",
   "execution_count": null,
   "metadata": {},
   "outputs": [],
   "source": []
  }
 ],
 "metadata": {
  "kernelspec": {
   "display_name": "Python 3.7.1 64-bit",
   "language": "python",
   "name": "python37164bit4b2afcc42d3048dbb6e9b9f1fe2e85da"
  },
  "language_info": {
   "codemirror_mode": {
    "name": "ipython",
    "version": 3
   },
   "file_extension": ".py",
   "mimetype": "text/x-python",
   "name": "python",
   "nbconvert_exporter": "python",
   "pygments_lexer": "ipython3",
   "version": "3.7.1"
  }
 },
 "nbformat": 4,
 "nbformat_minor": 4
}
